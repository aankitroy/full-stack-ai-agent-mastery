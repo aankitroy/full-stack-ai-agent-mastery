{
  "cells": [
    {
      "cell_type": "markdown",
      "metadata": {
        "cellUniqueIdByVincent": "e3000"
      },
      "source": [
        "# Hello World Agent - Interactive Demo\n",
        "\n",
        "This notebook demonstrates the basic concepts of AI agents through \n",
        "the simplest possible implementation.\n",
        "\n",
        "## What you'll learn:\n",
        "1. Basic agent architecture (input -> think -> respond)\n",
        "2. Conversation state management\n",
        "3. Agent reasoning and decision making\n",
        "4. Performance monitoring and analysis\n"
      ]
    },
    {
      "cell_type": "code",
      "execution_count": null,
      "metadata": {
        "cellUniqueIdByVincent": "732f7"
      },
      "outputs": [],
      "source": [
        "# Basic Setup\n",
        "import sys\n",
        "sys.path.append('.')\n",
        "\n",
        "from agent import HelloWorldAgent, chat_with_agent\n",
        "import json\n",
        "\n",
        "# Create your first agent\n",
        "agent = HelloWorldAgent(personality=\"friendly_assistant\")\n",
        "\n",
        "print(\"🎉 Your first agent is ready!\")\n",
        "print(\"Let's see what makes it an 'agent' vs a simple chatbot...\")\n"
      ]
    },
    {
      "cell_type": "code",
      "execution_count": null,
      "metadata": {
        "cellUniqueIdByVincent": "dbb05"
      },
      "outputs": [],
      "source": [
        "# Simple Interaction\n",
        "# Let's have a basic conversation\n",
        "user_message = \"Hello! How are you today?\"\n",
        "response = agent.respond(user_message)\n",
        "\n",
        "print(f\"User: {user_message}\")\n",
        "print(f\"Agent: {response}\")\n"
      ]
    },
    {
      "cell_type": "code",
      "execution_count": null,
      "metadata": {
        "cellUniqueIdByVincent": "99229"
      },
      "outputs": [],
      "source": [
        "# Look Inside the Agent's \"Mind\"\n",
        "# Let's see what the agent was \"thinking\"\n",
        "reasoning = agent.think(\"What's the weather like?\")\n",
        "\n",
        "print(\"🧠 Agent's reasoning process:\")\n",
        "print(json.dumps(reasoning, indent=2, default=str))\n"
      ]
    },
    {
      "cell_type": "code",
      "execution_count": null,
      "metadata": {
        "cellUniqueIdByVincent": "1e1e3"
      },
      "outputs": [],
      "source": [
        "# Conversation Context\n",
        "# Have a multi-turn conversation to see context awareness\n",
        "conversation = [\n",
        "    \"Hi there!\",\n",
        "    \"My name is Alex.\",\n",
        "    \"What's my name?\",\n",
        "    \"Can you help me learn about AI agents?\"\n",
        "]\n",
        "\n",
        "print(\"🗣️ Multi-turn conversation:\")\n",
        "for message in conversation:\n",
        "    response = agent.respond(message)\n",
        "    print(f\"User: {message}\")\n",
        "    print(f\"Agent: {response}\")\n",
        "    print(\"---\")\n"
      ]
    },
    {
      "cell_type": "code",
      "execution_count": null,
      "metadata": {
        "cellUniqueIdByVincent": "cdbab"
      },
      "outputs": [],
      "source": [
        "# Agent Analytics\n",
        "# See what the agent learned about the conversation\n",
        "summary = agent.get_conversation_summary()\n",
        "\n",
        "print(\"📊 Conversation Analysis:\")\n",
        "for key, value in summary.items():\n",
        "    print(f\"{key}: {value}\")\n"
      ]
    },
    {
      "cell_type": "code",
      "execution_count": null,
      "metadata": {
        "cellUniqueIdByVincent": "d16a3"
      },
      "outputs": [],
      "source": [
        "# Different Personalities\n",
        "# Try different agent personalities\n",
        "personalities = [\"friendly_assistant\", \"technical_expert\", \"creative_companion\"]\n",
        "\n",
        "print(\"🎭 Testing different personalities:\")\n",
        "for personality in personalities:\n",
        "    test_agent = HelloWorldAgent(personality=personality)\n",
        "    response = test_agent.respond(\"Tell me about AI agents\")\n",
        "    print(f\"\\n{personality}: {response[:100]}...\")\n"
      ]
    },
    {
      "cell_type": "code",
      "execution_count": null,
      "metadata": {
        "cellUniqueIdByVincent": "a744d"
      },
      "outputs": [],
      "source": [
        "# Performance Testing\n",
        "import time\n",
        "\n",
        "print(\"⚡ Performance Testing:\")\n",
        "test_messages = [\n",
        "    \"Hello!\",\n",
        "    \"How does machine learning work?\",\n",
        "    \"What are your capabilities?\",\n",
        "    \"Can you help me with coding?\",\n",
        "    \"Thanks for your help!\"\n",
        "]\n",
        "\n",
        "start_time = time.time()\n",
        "for msg in test_messages:\n",
        "    agent.respond(msg)\n",
        "end_time = time.time()\n",
        "\n",
        "print(f\"Processed {len(test_messages)} messages in {end_time - start_time:.2f} seconds\")\n",
        "print(f\"Average response time: {agent.get_conversation_summary()['average_response_time']:.2f} seconds\")\n"
      ]
    }
  ],
  "metadata": {
    "vincent": {
      "sessionId": "7a4376adf64f2fcda348583f_2025-09-18T11-36-30-262Z"
    }
  },
  "nbformat": 4,
  "nbformat_minor": 2
}
