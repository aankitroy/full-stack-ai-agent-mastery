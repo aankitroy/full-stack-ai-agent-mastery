{
 "cells": [
  {
   "cell_type": "markdown",
   "metadata": {
    "cellUniqueIdByVincent": "e3000"
   },
   "source": [
    "# Hello World Agent - Interactive Demo\n",
    "\n",
    "This notebook demonstrates the basic concepts of AI agents through \n",
    "the simplest possible implementation.\n",
    "\n",
    "## What you'll learn:\n",
    "1. Basic agent architecture (input -> think -> respond)\n",
    "2. Conversation state management\n",
    "3. Agent reasoning and decision making\n",
    "4. Performance monitoring and analysis\n"
   ]
  },
  {
   "cell_type": "code",
   "execution_count": 2,
   "metadata": {
    "cellUniqueIdByVincent": "732f7"
   },
   "outputs": [
    {
     "name": "stdout",
     "output_type": "stream",
     "text": [
      "🎉 Your first agent is ready!\n",
      "Let's see what makes it an 'agent' vs a simple chatbot...\n"
     ]
    }
   ],
   "source": [
    "# Basic Setup\n",
    "import sys\n",
    "sys.path.append('.')\n",
    "\n",
    "from agent import HelloWorldAgent, chat_with_agent\n",
    "import json\n",
    "\n",
    "# Create your first agent\n",
    "agent = HelloWorldAgent(personality=\"friendly_assistant\")\n",
    "\n",
    "print(\"🎉 Your first agent is ready!\")\n",
    "print(\"Let's see what makes it an 'agent' vs a simple chatbot...\")\n"
   ]
  },
  {
   "cell_type": "code",
   "execution_count": 4,
   "metadata": {
    "cellUniqueIdByVincent": "dbb05"
   },
   "outputs": [
    {
     "name": "stdout",
     "output_type": "stream",
     "text": [
      "User: Hello! How are you today?\n",
      "Agent: Hello! I'm just a computer program, so I don't have feelings, but I'm here and ready to help you. How can I assist you today?\n"
     ]
    }
   ],
   "source": [
    "# Simple Interaction\n",
    "# Let's have a basic conversation\n",
    "user_message = \"Hello! How are you today?\"\n",
    "response = agent.respond(user_message)\n",
    "\n",
    "print(f\"User: {user_message}\")\n",
    "print(f\"Agent: {response}\")\n"
   ]
  },
  {
   "cell_type": "code",
   "execution_count": 6,
   "metadata": {
    "cellUniqueIdByVincent": "99229"
   },
   "outputs": [
    {
     "name": "stdout",
     "output_type": "stream",
     "text": [
      "🧠 Agent's reasoning process:\n",
      "{\n",
      "  \"input_analysis\": {\n",
      "    \"intent\": \"question\",\n",
      "    \"entities\": [],\n",
      "    \"sentiment\": \"neutral\",\n",
      "    \"topics\": [\n",
      "      \"what's\",\n",
      "      \"weather\",\n",
      "      \"like?\"\n",
      "    ]\n",
      "  },\n",
      "  \"context_summary\": \"Recent topics: today?, hello!\",\n",
      "  \"response_strategy\": \"Provide helpful information and ask follow-up if needed\",\n",
      "  \"thinking_time\": 0.000194\n",
      "}\n"
     ]
    }
   ],
   "source": [
    "# Look Inside the Agent's \"Mind\"\n",
    "# Let's see what the agent was \"thinking\"\n",
    "reasoning = agent.think(\"What's the weather like?\")\n",
    "\n",
    "print(\"🧠 Agent's reasoning process:\")\n",
    "print(json.dumps(reasoning, indent=2, default=str))\n"
   ]
  },
  {
   "cell_type": "code",
   "execution_count": 8,
   "metadata": {
    "cellUniqueIdByVincent": "1e1e3"
   },
   "outputs": [
    {
     "name": "stdout",
     "output_type": "stream",
     "text": [
      "🗣️ Multi-turn conversation:\n",
      "User: Hi there!\n",
      "Agent: Hello again! How can I assist you today?\n",
      "---\n",
      "User: My name is Alex.\n",
      "Agent: Nice to meet you, Alex! How can I assist you today?\n",
      "---\n",
      "User: What's my name?\n",
      "Agent: Your name is Alex! How can I assist you further, Alex?\n",
      "---\n",
      "User: Can you help me learn about AI agents?\n",
      "Agent: Of course, I'd be happy to help! AI agents are software programs that act on behalf of a user to perform specific tasks or provide information. They can range from simple chatbots like me to more complex virtual assistants like Siri or Alexa. AI agents use artificial intelligence techniques like natural language processing and machine learning to understand and respond to user queries. Is there something specific you would like to know about AI agents?\n",
      "---\n"
     ]
    }
   ],
   "source": [
    "# Conversation Context\n",
    "# Have a multi-turn conversation to see context awareness\n",
    "conversation = [\n",
    "    \"Hi there!\",\n",
    "    \"My name is Alex.\",\n",
    "    \"What's my name?\",\n",
    "    \"Can you help me learn about AI agents?\"\n",
    "]\n",
    "\n",
    "print(\"🗣️ Multi-turn conversation:\")\n",
    "for message in conversation:\n",
    "    response = agent.respond(message)\n",
    "    print(f\"User: {message}\")\n",
    "    print(f\"Agent: {response}\")\n",
    "    print(\"---\")\n"
   ]
  },
  {
   "cell_type": "code",
   "execution_count": 10,
   "metadata": {
    "cellUniqueIdByVincent": "cdbab"
   },
   "outputs": [
    {
     "name": "stdout",
     "output_type": "stream",
     "text": [
      "📊 Conversation Analysis:\n",
      "total_messages: 10\n",
      "user_messages: 5\n",
      "agent_messages: 5\n",
      "topics_discussed: ['help', 'about', 'learn', 'name', 'name?', 'there!', 'alex.', \"what's\", 'today?', 'hello!']\n",
      "average_response_time: 0.0\n",
      "conversation_duration: 40.018546\n"
     ]
    }
   ],
   "source": [
    "# Agent Analytics\n",
    "# See what the agent learned about the conversation\n",
    "summary = agent.get_conversation_summary()\n",
    "\n",
    "print(\"📊 Conversation Analysis:\")\n",
    "for key, value in summary.items():\n",
    "    print(f\"{key}: {value}\")\n"
   ]
  },
  {
   "cell_type": "code",
   "execution_count": 14,
   "metadata": {
    "cellUniqueIdByVincent": "d16a3"
   },
   "outputs": [
    {
     "name": "stdout",
     "output_type": "stream",
     "text": [
      "🎭 Testing different personalities:\n",
      "\n",
      "friendly_assistant: AI agents are software programs that use artificial intelligence techniques to perform tasks or services on behalf of users. These agents can range from simple chatbots to advanced virtual assistants like Siri or Alexa. AI agents can be designed to automate tasks, provide information, make recommendations, or even engage in natural language conversations with users. They can adapt and learn from interactions to improve their performance over time. AI agents play a significant role in various fields, including customer service, healthcare, finance, and more. Is there a specific aspect of AI agents you are interested in learning more about?...\n",
      "\n",
      "technical_expert: AI agents, also known as intelligent agents, are autonomous software entities that can perceive their environment, make decisions, and take actions to achieve specific goals. These agents are typically designed to operate in dynamic and uncertain environments by leveraging artificial intelligence techniques such as machine learning, natural language processing, computer vision, and more.\n",
      "\n",
      "AI agents can vary in complexity and capabilities, ranging from simple rule-based systems to sophisticated deep learning models. They can be classified based on their level of autonomy, learning capabilities, and interaction with the environment. Here are some common types of AI agents:\n",
      "\n",
      "1. **Simple Reflex Agents**: These agents base their decisions solely on the current percept (input) without considering the history of past percepts. They follow predefined rules to respond to specific inputs...\n",
      "\n",
      "creative_companion: AI agents are intelligent software entities that can perform tasks autonomously. They are designed to perceive their environment, make decisions, and act to achieve specific goals. AI agents can range from simple rule-based systems to complex deep learning models.\n",
      "\n",
      "One popular type of AI agent is a chatbot, which can engage in conversations with users to provide information or assistance. Another common type is a recommendation agent, which suggests products or content based on user preferences and behavior.\n",
      "\n",
      "AI agents can be customized and trained for specific tasks, such as playing games, controlling smart devices, or assisting with customer service. They can learn from data and interactions to improve their performance over time.\n",
      "\n",
      "AI agents are used in various fields, including healthcare, finance, transportation, and entertainment. They hold...\n"
     ]
    }
   ],
   "source": [
    "# Different Personalities\n",
    "# Try different agent personalities\n",
    "personalities = [\"friendly_assistant\", \"technical_expert\", \"creative_companion\"]\n",
    "\n",
    "print(\"🎭 Testing different personalities:\")\n",
    "for personality in personalities:\n",
    "    test_agent = HelloWorldAgent(personality=personality)\n",
    "    response = test_agent.respond(\"Tell me about AI agents\")\n",
    "    print(f\"\\n{personality}: {response}...\")\n"
   ]
  },
  {
   "cell_type": "code",
   "execution_count": null,
   "metadata": {
    "cellUniqueIdByVincent": "a744d"
   },
   "outputs": [],
   "source": [
    "\n"
   ]
  }
 ],
 "metadata": {
  "kernelspec": {
   "display_name": "Python [conda env:llms]",
   "language": "python",
   "name": "conda-env-llms-py"
  },
  "language_info": {
   "codemirror_mode": {
    "name": "ipython",
    "version": 3
   },
   "file_extension": ".py",
   "mimetype": "text/x-python",
   "name": "python",
   "nbconvert_exporter": "python",
   "pygments_lexer": "ipython3",
   "version": "3.11.11"
  },
  "vincent": {
   "sessionId": "7a4376adf64f2fcda348583f_2025-09-18T11-36-30-262Z"
  }
 },
 "nbformat": 4,
 "nbformat_minor": 4
}
